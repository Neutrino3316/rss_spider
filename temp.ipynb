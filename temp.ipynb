{
 "cells": [
  {
   "cell_type": "code",
   "execution_count": 1,
   "metadata": {},
   "outputs": [],
   "source": [
    "import feedparser"
   ]
  },
  {
   "cell_type": "code",
   "execution_count": null,
   "metadata": {},
   "outputs": [],
   "source": [
    "rss_keys_set = {'title', 'summary', 'published', 'link', 'author'}"
   ]
  },
  {
   "cell_type": "code",
   "execution_count": 2,
   "metadata": {},
   "outputs": [],
   "source": [
    "rss = feedparser.parse(\"https://rsshub.app/sina/rollnews\")\n",
    "for item in rss.entries:\n",
    "    for a, b in item.items():\n",
    "        pass\n",
    "#         print(a, b)"
   ]
  },
  {
   "cell_type": "code",
   "execution_count": 3,
   "metadata": {},
   "outputs": [
    {
     "data": {
      "text/plain": [
       "dict_keys(['title', 'title_detail', 'summary', 'summary_detail', 'published', 'published_parsed', 'id', 'guidislink', 'links', 'link'])"
      ]
     },
     "execution_count": 3,
     "metadata": {},
     "output_type": "execute_result"
    }
   ],
   "source": [
    "item.keys()"
   ]
  },
  {
   "cell_type": "code",
   "execution_count": 4,
   "metadata": {},
   "outputs": [
    {
     "data": {
      "text/plain": [
       "{'title': '滴滴程维：过去我们叫的是一辆车 未来会是一个座位',\n",
       " 'title_detail': {'type': 'text/plain',\n",
       "  'language': None,\n",
       "  'base': 'https://rsshub.app/sina/rollnews',\n",
       "  'value': '滴滴程维：过去我们叫的是一辆车 未来会是一个座位'},\n",
       " 'summary': '<div class=\"img_wrapper\"><img src=\"https://n.sinaimg.cn/tech/transform/93/w550h343/20190829/a8a1-icxmqsv1394598.png\" alt data-link data-mcesrc=\"//n.sinaimg.cn/tech/transform/224/w630h394/20190829/2b20-icxmqsv1393246.png\" data-mceselected=\"1\" referrerpolicy=\"no-referrer\"><span class=\"img_descr\"></span></div>\\n<p>\\u3000\\u3000新浪科技讯 8月29日下午消息，2019世界人工智能大会今日在上海开幕，在主论坛圆桌对话环节，滴滴出行董事长兼首席执行官程维发言时表示，交通出行是海量用户和海量交通工具之间的撮合，很难通过人来匹配，一定是需要大数据、AI来处理。</p>\\n<p>\\u3000\\u3000关于怎么提高汽车使用效率，程维表示，拼车的是很好的解决方案，现在的大数据和AI技术能够更好的帮助用户实现实时的拼车服务。</p>\\n<p>\\u3000\\u3000程维提到，有20%以上的用户习惯了拼车出行，过去我们叫的是一辆车，未来叫的会是一个座位。拼车能解决拥堵问题，提高汽车使用率，而现在的大数据和人工智能技术能够更好的帮助用户实现实时的拼车服务。(雪梅)</p>\\n\\n<!-- <div class=\"show_statement\">\\u3000\\u3000声明：新浪网独家稿件，未经授权禁止转载。</div> -->\\n<!-- tech_web_article_v2015_block_bottom -->\\n\\n                <!-- 非定向300*250按钮    17/09  wenjing  begin -->\\n\\n<div id=\"left_hzh_ad\">\\n                    \\n                    \\n                    \\n                </div>\\n         \\n                <!-- 非定向300*250按钮  end -->',\n",
       " 'summary_detail': {'type': 'text/html',\n",
       "  'language': None,\n",
       "  'base': 'https://rsshub.app/sina/rollnews',\n",
       "  'value': '<div class=\"img_wrapper\"><img src=\"https://n.sinaimg.cn/tech/transform/93/w550h343/20190829/a8a1-icxmqsv1394598.png\" alt data-link data-mcesrc=\"//n.sinaimg.cn/tech/transform/224/w630h394/20190829/2b20-icxmqsv1393246.png\" data-mceselected=\"1\" referrerpolicy=\"no-referrer\"><span class=\"img_descr\"></span></div>\\n<p>\\u3000\\u3000新浪科技讯 8月29日下午消息，2019世界人工智能大会今日在上海开幕，在主论坛圆桌对话环节，滴滴出行董事长兼首席执行官程维发言时表示，交通出行是海量用户和海量交通工具之间的撮合，很难通过人来匹配，一定是需要大数据、AI来处理。</p>\\n<p>\\u3000\\u3000关于怎么提高汽车使用效率，程维表示，拼车的是很好的解决方案，现在的大数据和AI技术能够更好的帮助用户实现实时的拼车服务。</p>\\n<p>\\u3000\\u3000程维提到，有20%以上的用户习惯了拼车出行，过去我们叫的是一辆车，未来叫的会是一个座位。拼车能解决拥堵问题，提高汽车使用率，而现在的大数据和人工智能技术能够更好的帮助用户实现实时的拼车服务。(雪梅)</p>\\n\\n<!-- <div class=\"show_statement\">\\u3000\\u3000声明：新浪网独家稿件，未经授权禁止转载。</div> -->\\n<!-- tech_web_article_v2015_block_bottom -->\\n\\n                <!-- 非定向300*250按钮    17/09  wenjing  begin -->\\n\\n<div id=\"left_hzh_ad\">\\n                    \\n                    \\n                    \\n                </div>\\n         \\n                <!-- 非定向300*250按钮  end -->'},\n",
       " 'published': 'Thu, 29 Aug 2019 06:59:17 GMT',\n",
       " 'published_parsed': time.struct_time(tm_year=2019, tm_mon=8, tm_mday=29, tm_hour=6, tm_min=59, tm_sec=17, tm_wday=3, tm_yday=241, tm_isdst=0),\n",
       " 'id': 'https://tech.sina.com.cn/i/2019-08-29/doc-ihytcern4455894.shtml',\n",
       " 'guidislink': False,\n",
       " 'links': [{'rel': 'alternate',\n",
       "   'type': 'text/html',\n",
       "   'href': 'https://tech.sina.com.cn/i/2019-08-29/doc-ihytcern4455894.shtml'}],\n",
       " 'link': 'https://tech.sina.com.cn/i/2019-08-29/doc-ihytcern4455894.shtml'}"
      ]
     },
     "execution_count": 4,
     "metadata": {},
     "output_type": "execute_result"
    }
   ],
   "source": [
    "item"
   ]
  },
  {
   "cell_type": "code",
   "execution_count": null,
   "metadata": {},
   "outputs": [],
   "source": [
    "item[\"content\"][0][\"value\"]"
   ]
  },
  {
   "cell_type": "code",
   "execution_count": null,
   "metadata": {},
   "outputs": [],
   "source": [
    "for key in rss_keys_set:\n",
    "    print(item[key])"
   ]
  },
  {
   "cell_type": "code",
   "execution_count": null,
   "metadata": {},
   "outputs": [],
   "source": [
    "ans = dict((k, item[k]) for k in rss_keys_set)"
   ]
  },
  {
   "cell_type": "code",
   "execution_count": null,
   "metadata": {},
   "outputs": [],
   "source": [
    "ans[\"_id\"] = item[\"id\"]"
   ]
  },
  {
   "cell_type": "code",
   "execution_count": null,
   "metadata": {},
   "outputs": [],
   "source": [
    "ans"
   ]
  },
  {
   "cell_type": "code",
   "execution_count": null,
   "metadata": {},
   "outputs": [],
   "source": []
  }
 ],
 "metadata": {
  "kernelspec": {
   "display_name": "Python 3",
   "language": "python",
   "name": "python3"
  },
  "language_info": {
   "codemirror_mode": {
    "name": "ipython",
    "version": 3
   },
   "file_extension": ".py",
   "mimetype": "text/x-python",
   "name": "python",
   "nbconvert_exporter": "python",
   "pygments_lexer": "ipython3",
   "version": "3.6.8"
  }
 },
 "nbformat": 4,
 "nbformat_minor": 2
}
