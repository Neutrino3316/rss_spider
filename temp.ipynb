{
 "cells": [
  {
   "cell_type": "code",
   "execution_count": 1,
   "metadata": {},
   "outputs": [],
   "source": [
    "import feedparser"
   ]
  },
  {
   "cell_type": "code",
   "execution_count": 5,
   "metadata": {},
   "outputs": [],
   "source": [
    "rss_keys_set = {'title', 'summary', 'published', 'link', 'author'}"
   ]
  },
  {
   "cell_type": "code",
   "execution_count": 85,
   "metadata": {},
   "outputs": [],
   "source": [
    "rss = feedparser.parse(\"http://post.smzdm.com/feed\")\n",
    "for item in rss.entries:\n",
    "    for a, b in item.items():\n",
    "        pass\n",
    "#         print(a, b)"
   ]
  },
  {
   "cell_type": "code",
   "execution_count": 86,
   "metadata": {},
   "outputs": [
    {
     "data": {
      "text/plain": [
       "dict_keys(['title', 'title_detail', 'links', 'link', 'summary', 'summary_detail', 'content', 'tags', 'authors', 'author', 'author_detail', 'source', 'published', 'published_parsed'])"
      ]
     },
     "execution_count": 86,
     "metadata": {},
     "output_type": "execute_result"
    }
   ],
   "source": [
    "item.keys()"
   ]
  },
  {
   "cell_type": "code",
   "execution_count": 87,
   "metadata": {},
   "outputs": [
    {
     "data": {
      "text/plain": [
       "{'title': 'Costco开业第一天把警察都招来了 ！小编现场探店，挤瘦5斤都没能进去！',\n",
       " 'title_detail': {'type': 'text/plain',\n",
       "  'language': None,\n",
       "  'base': 'https://post.smzdm.com/feed',\n",
       "  'value': 'Costco开业第一天把警察都招来了 ！小编现场探店，挤瘦5斤都没能进去！'},\n",
       " 'links': [{'rel': 'alternate',\n",
       "   'type': 'text/html',\n",
       "   'href': 'https://post.smzdm.com/p/a4wknn9x/'}],\n",
       " 'link': 'https://post.smzdm.com/p/a4wknn9x/',\n",
       " 'summary': '高温37°马路上为何竟然大排长龙，光天化日闵行警方为何倾巢而出，美国超市开业首日为何急忙关门！这究竟是人性的扭曲？还是道德的沦丧？欢迎收看今天的节目走进Costco！（手动狗头）如果没有魔兽怀旧服开服...',\n",
       " 'summary_detail': {'type': 'text/html',\n",
       "  'language': None,\n",
       "  'base': 'https://post.smzdm.com/feed',\n",
       "  'value': '高温37°马路上为何竟然大排长龙，光天化日闵行警方为何倾巢而出，美国超市开业首日为何急忙关门！这究竟是人性的扭曲？还是道德的沦丧？欢迎收看今天的节目走进Costco！（手动狗头）如果没有魔兽怀旧服开服...'},\n",
       " 'content': [{'type': 'text/html',\n",
       "   'language': None,\n",
       "   'base': 'https://post.smzdm.com/feed',\n",
       "   'value': '值行高温37°马路上为何竟然大排长龙，光天化日闵行警方为何倾巢而出，美国超市开业首日为何急忙关门！这究竟是人性的扭曲？还是道德的沦丧？欢迎收看今天的节目走进Costco！（手动狗头）如果没有魔兽怀旧服开服，大概上海Costco开业的盛况早已制霸热搜了。凭什么这家美国超市能够如此火爆？以至于再现了“优衣库丧尸”事件 的壮观景象？为了一探究竟我们值行，专门派出了“特约记者”假面百夫长同学前往Costco！以下为百夫长前方带来的报道：我从浦东打车Costco闵行华漕路足足花了2小时（平时小堵也就1小时），从下高架开始就疯狂堵车，全是去超市的的车辆。眼看就快到了，结果又堵住不动了！一问，前面封路了！你敢信！虽然不是很远，不过这个高温黄色预警的天气，心中一万只X泥马奔腾ing（没想到噩梦才刚开始）路上还碰到了举牌“车位已满”的小哥，这个天也真的是辛苦了。Costco是会员制度的，<strong>开业前的促销年费是199元/人，今天正式开业价格变为正常的299元/人</strong>，主卡可以携带一名同伴一起进入。为了避免今天人工开卡要排长队，百夫长机智地先开好了电子卡，然而人算不如天算，跋山涉水，来到了Costco的门口后，居然收到...<p>本文来自<a href=\"https://post.smzdm.com/p/a4wknn9x/\">什么值得买网站（www.smzdm.com）</a>。</p>'}],\n",
       " 'tags': [{'term': '日用百货', 'scheme': None, 'label': None}],\n",
       " 'authors': [{'name': '值行'}],\n",
       " 'author': '值行',\n",
       " 'author_detail': {'name': '值行'},\n",
       " 'source': {'title': '什么值得买'},\n",
       " 'published': 'Tue, 27 Aug 2019 18:02:58 +0800',\n",
       " 'published_parsed': time.struct_time(tm_year=2019, tm_mon=8, tm_mday=27, tm_hour=10, tm_min=2, tm_sec=58, tm_wday=1, tm_yday=239, tm_isdst=0)}"
      ]
     },
     "execution_count": 87,
     "metadata": {},
     "output_type": "execute_result"
    }
   ],
   "source": [
    "item"
   ]
  },
  {
   "cell_type": "code",
   "execution_count": 78,
   "metadata": {},
   "outputs": [
    {
     "data": {
      "text/plain": [
       "'值行高温37°马路上为何竟然大排长龙，光天化日闵行警方为何倾巢而出，美国超市开业首日为何急忙关门！这究竟是人性的扭曲？还是道德的沦丧？欢迎收看今天的节目走进Costco！（手动狗头）如果没有魔兽怀旧服开服，大概上海Costco开业的盛况早已制霸热搜了。凭什么这家美国超市能够如此火爆？以至于再现了“优衣库丧尸”事件 的壮观景象？为了一探究竟我们值行，专门派出了“特约记者”假面百夫长同学前往Costco！以下为百夫长前方带来的报道：我从浦东打车Costco闵行华漕路足足花了2小时（平时小堵也就1小时），从下高架开始就疯狂堵车，全是去超市的的车辆。眼看就快到了，结果又堵住不动了！一问，前面封路了！你敢信！虽然不是很远，不过这个高温黄色预警的天气，心中一万只X泥马奔腾ing（没想到噩梦才刚开始）路上还碰到了举牌“车位已满”的小哥，这个天也真的是辛苦了。Costco是会员制度的，<strong>开业前的促销年费是199元/人，今天正式开业价格变为正常的299元/人</strong>，主卡可以携带一名同伴一起进入。为了避免今天人工开卡要排长队，百夫长机智地先开好了电子卡，然而人算不如天算，跋山涉水，来到了Costco的门口后，居然收到...<p>本文来自<a href=\"https://post.smzdm.com/p/a4wknn9x/\">什么值得买网站（www.smzdm.com）</a>。</p>'"
      ]
     },
     "execution_count": 78,
     "metadata": {},
     "output_type": "execute_result"
    }
   ],
   "source": [
    "item[\"content\"][0][\"value\"]"
   ]
  },
  {
   "cell_type": "code",
   "execution_count": 74,
   "metadata": {},
   "outputs": [
    {
     "name": "stdout",
     "output_type": "stream",
     "text": [
      "银联专享：PANDORA 潘多拉 396581CZ 爱之匙 925银项链 80cm  €68包邮（约543元，最高可享19元现金奖励）\n",
      "Tue, 27 Aug 2019 16:34:22\n"
     ]
    },
    {
     "ename": "KeyError",
     "evalue": "'author'",
     "output_type": "error",
     "traceback": [
      "\u001b[1;31m---------------------------------------------------------------------------\u001b[0m",
      "\u001b[1;31mKeyError\u001b[0m                                  Traceback (most recent call last)",
      "\u001b[1;32m<ipython-input-74-7e40215989d6>\u001b[0m in \u001b[0;36m<module>\u001b[1;34m\u001b[0m\n\u001b[0;32m      1\u001b[0m \u001b[1;32mfor\u001b[0m \u001b[0mkey\u001b[0m \u001b[1;32min\u001b[0m \u001b[0mrss_keys_set\u001b[0m\u001b[1;33m:\u001b[0m\u001b[1;33m\u001b[0m\u001b[1;33m\u001b[0m\u001b[0m\n\u001b[1;32m----> 2\u001b[1;33m     \u001b[0mprint\u001b[0m\u001b[1;33m(\u001b[0m\u001b[0mitem\u001b[0m\u001b[1;33m[\u001b[0m\u001b[0mkey\u001b[0m\u001b[1;33m]\u001b[0m\u001b[1;33m)\u001b[0m\u001b[1;33m\u001b[0m\u001b[1;33m\u001b[0m\u001b[0m\n\u001b[0m",
      "\u001b[1;32m~\\.conda\\envs\\DataBank\\lib\\site-packages\\feedparser.py\u001b[0m in \u001b[0;36m__getitem__\u001b[1;34m(self, key)\u001b[0m\n\u001b[0;32m    354\u001b[0m             \u001b[1;32melif\u001b[0m \u001b[0mdict\u001b[0m\u001b[1;33m.\u001b[0m\u001b[0m__contains__\u001b[0m\u001b[1;33m(\u001b[0m\u001b[0mself\u001b[0m\u001b[1;33m,\u001b[0m \u001b[0mrealkey\u001b[0m\u001b[1;33m)\u001b[0m\u001b[1;33m:\u001b[0m\u001b[1;33m\u001b[0m\u001b[1;33m\u001b[0m\u001b[0m\n\u001b[0;32m    355\u001b[0m                 \u001b[1;32mreturn\u001b[0m \u001b[0mdict\u001b[0m\u001b[1;33m.\u001b[0m\u001b[0m__getitem__\u001b[0m\u001b[1;33m(\u001b[0m\u001b[0mself\u001b[0m\u001b[1;33m,\u001b[0m \u001b[0mrealkey\u001b[0m\u001b[1;33m)\u001b[0m\u001b[1;33m\u001b[0m\u001b[1;33m\u001b[0m\u001b[0m\n\u001b[1;32m--> 356\u001b[1;33m         \u001b[1;32mreturn\u001b[0m \u001b[0mdict\u001b[0m\u001b[1;33m.\u001b[0m\u001b[0m__getitem__\u001b[0m\u001b[1;33m(\u001b[0m\u001b[0mself\u001b[0m\u001b[1;33m,\u001b[0m \u001b[0mkey\u001b[0m\u001b[1;33m)\u001b[0m\u001b[1;33m\u001b[0m\u001b[1;33m\u001b[0m\u001b[0m\n\u001b[0m\u001b[0;32m    357\u001b[0m \u001b[1;33m\u001b[0m\u001b[0m\n\u001b[0;32m    358\u001b[0m     \u001b[1;32mdef\u001b[0m \u001b[0m__contains__\u001b[0m\u001b[1;33m(\u001b[0m\u001b[0mself\u001b[0m\u001b[1;33m,\u001b[0m \u001b[0mkey\u001b[0m\u001b[1;33m)\u001b[0m\u001b[1;33m:\u001b[0m\u001b[1;33m\u001b[0m\u001b[1;33m\u001b[0m\u001b[0m\n",
      "\u001b[1;31mKeyError\u001b[0m: 'author'"
     ]
    }
   ],
   "source": [
    "for key in rss_keys_set:\n",
    "    print(item[key])"
   ]
  },
  {
   "cell_type": "code",
   "execution_count": 13,
   "metadata": {},
   "outputs": [],
   "source": [
    "ans = dict((k, item[k]) for k in rss_keys_set)"
   ]
  },
  {
   "cell_type": "code",
   "execution_count": 15,
   "metadata": {},
   "outputs": [],
   "source": [
    "ans[\"_id\"] = item[\"id\"]"
   ]
  },
  {
   "cell_type": "code",
   "execution_count": 16,
   "metadata": {},
   "outputs": [
    {
     "data": {
      "text/plain": [
       "{'title': '质量很好的台式机一定要自己组装吗？',\n",
       " 'published': 'Sat, 24 Aug 2019 05:54:20 GMT',\n",
       " 'author': '毅种循环',\n",
       " 'summary': '毅种循环的回答<br/><br/><p>质量很好的台式机一定要自己组装吗？</p><p>不是。</p><p><br/></p><p>宁美/名龙堂这些特别大但是名声不太好的整机商家也有质量非常非常好的高端组装机。这些高端组装机不像中低端那样在硬件具体型号上故意含糊其辞，高端机每个配件型号都写的清清楚楚生怕你不知道，而且几乎每个配件用的都是旗舰或者次旗舰产品。因此，这些高端组装机质量肯定很好。</p><p>整机电商的高端组装机既然质量很好，那值得买吗？</p><p>当然不值得！</p><p>整机电商质量好的主机价格都贼贵，比自己买同样的配件装要贵个20%，甚至30%。一套2W的主机能比自己装贵个4000，如果你不在乎这么点钱，那当然可以买整机。如果你像我一样觉得几千块钱是钱，那还是自己装吧。</p><p>除非是全套定制的分体水冷，否则一般主机安装只需要1-2个小时，即使是新手按照网上教程自学，一天也能搞定。只要线都插对，一步步按照教程来，自己装的和别人装的也没啥区别，千万不要有无意义的担忧。</p><p>我想，对于大多数人来说，你的一天时间，并不值4000元。</p><figure><img src=\"https://pic3.zhimg.com/50/v2-16710bab5f9ac54c54bd6584b14a9d8d_r.jpg\" data-caption=\"\" data-size=\"normal\" data-rawwidth=\"640\" data-rawheight=\"374\" data-default-watermark-src=\"https://pic2.zhimg.com/50/v2-832ab47c40805223f4461499021470de_b.jpg\" class=\"origin_image zh-lightbox-thumb\" data-original=\"https://pic3.zhimg.com/50/v2-16710bab5f9ac54c54bd6584b14a9d8d_r.jpg\"/></figure><p/>',\n",
       " 'link': 'https://www.zhihu.com/question/340657026/answer/800783272',\n",
       " '_id': '800783272'}"
      ]
     },
     "execution_count": 16,
     "metadata": {},
     "output_type": "execute_result"
    }
   ],
   "source": [
    "ans"
   ]
  },
  {
   "cell_type": "code",
   "execution_count": 91,
   "metadata": {},
   "outputs": [],
   "source": [
    "import datetime"
   ]
  },
  {
   "cell_type": "code",
   "execution_count": 108,
   "metadata": {},
   "outputs": [],
   "source": [
    "def get_formatted_time():\n",
    "    local_time = datetime.datetime.utcnow().replace(tzinfo=datetime.timezone(datetime.timedelta(hours=8)))\n",
    "    return local_time.strftime(\"%y-%m-%d %H:%M:%S\")"
   ]
  },
  {
   "cell_type": "code",
   "execution_count": 109,
   "metadata": {},
   "outputs": [],
   "source": [
    "a = get_formatted_time()"
   ]
  },
  {
   "cell_type": "code",
   "execution_count": 110,
   "metadata": {},
   "outputs": [
    {
     "data": {
      "text/plain": [
       "'19-08-27 17:00:49'"
      ]
     },
     "execution_count": 110,
     "metadata": {},
     "output_type": "execute_result"
    }
   ],
   "source": [
    "a"
   ]
  },
  {
   "cell_type": "code",
   "execution_count": 101,
   "metadata": {},
   "outputs": [
    {
     "data": {
      "text/plain": [
       "datetime.datetime"
      ]
     },
     "execution_count": 101,
     "metadata": {},
     "output_type": "execute_result"
    }
   ],
   "source": [
    "type(a)"
   ]
  },
  {
   "cell_type": "code",
   "execution_count": null,
   "metadata": {},
   "outputs": [],
   "source": []
  }
 ],
 "metadata": {
  "kernelspec": {
   "display_name": "Python 3",
   "language": "python",
   "name": "python3"
  },
  "language_info": {
   "codemirror_mode": {
    "name": "ipython",
    "version": 3
   },
   "file_extension": ".py",
   "mimetype": "text/x-python",
   "name": "python",
   "nbconvert_exporter": "python",
   "pygments_lexer": "ipython3",
   "version": "3.6.8"
  }
 },
 "nbformat": 4,
 "nbformat_minor": 2
}
